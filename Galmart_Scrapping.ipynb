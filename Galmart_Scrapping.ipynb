{
 "cells": [
  {
   "cell_type": "markdown",
   "metadata": {},
   "source": [
    "# Galmart Shop Web Scrapping"
   ]
  },
  {
   "cell_type": "code",
   "execution_count": 12,
   "metadata": {},
   "outputs": [],
   "source": [
    "from bs4 import BeautifulSoup\n",
    "import requests\n",
    "import numpy as np\n",
    "import pandas as pd\n",
    "import re"
   ]
  },
  {
   "cell_type": "markdown",
   "metadata": {},
   "source": [
    "Function opening web page:"
   ]
  },
  {
   "cell_type": "code",
   "execution_count": 13,
   "metadata": {},
   "outputs": [],
   "source": [
    "def open_page(page_num, url = 'https://store.galmart.kz/shop/page'):\n",
    "    headers = {'User-Agent': 'Mozilla/5.0 (Macintosh; Intel Mac OS X 10.9; rv:45.0) Gecko/20100101 Firefox/45.0'}\n",
    "    page_url = url + '/' + str(page_num)\n",
    "    return requests.get(page_url, headers = headers)"
   ]
  },
  {
   "cell_type": "markdown",
   "metadata": {},
   "source": [
    "Getting the number of pages to scrap:"
   ]
  },
  {
   "cell_type": "code",
   "execution_count": 20,
   "metadata": {},
   "outputs": [],
   "source": [
    "headers = {'User-Agent': 'Mozilla/5.0 (Macintosh; Intel Mac OS X 10.9; rv:45.0) Gecko/20100101 Firefox/45.0'}\n",
    "page = requests.get('https://store.galmart.kz/shop/page/2', headers = headers)\n",
    "pages = []\n",
    "if page.status_code == 200:\n",
    "    soup = BeautifulSoup(page.text, \"html.parser\")\n",
    "    content = soup.find('div', class_ = 'ast-woocommerce-container').find(class_ = 'page-numbers').text\n",
    "    string = content.split('\\n')\n",
    "    for i in string:\n",
    "        if i.isdigit():\n",
    "            pages.append(int(i))\n",
    "    num_pages = max(pages)"
   ]
  },
  {
   "cell_type": "code",
   "execution_count": 21,
   "metadata": {
    "scrolled": true
   },
   "outputs": [
    {
     "data": {
      "text/plain": [
       "267"
      ]
     },
     "execution_count": 21,
     "metadata": {},
     "output_type": "execute_result"
    }
   ],
   "source": [
    "num_pages"
   ]
  },
  {
   "cell_type": "markdown",
   "metadata": {},
   "source": [
    "Reading the shop pages one by one. Information about the product is inside the _astra-shop-summary-wrap_ class; the detailed info is inside the _woocommerce-loop-product__title_ class, the price is described in the _woocommerce-Price-amount amount_ class."
   ]
  },
  {
   "cell_type": "code",
   "execution_count": 5,
   "metadata": {},
   "outputs": [
    {
     "name": "stdout",
     "output_type": "stream",
     "text": [
      "Wall time: 5min 57s\n"
     ]
    }
   ],
   "source": [
    "%%time\n",
    "products = []\n",
    "prices = []\n",
    "for i in np.arange(1,num_pages+1):\n",
    "    page = open_page(i)\n",
    "    if page.status_code == 200:\n",
    "        soup = BeautifulSoup(page.text, \"html.parser\")\n",
    "        content = soup.findAll('div', class_ = 'astra-shop-summary-wrap')\n",
    "        for product in content:\n",
    "            if product.find(class_='woocommerce-loop-product__title') is not None:\n",
    "                products.append(product.find('h2').text)\n",
    "                if product.find('span', class_='woocommerce-Price-amount amount') is not None:\n",
    "                    prices.append(product.find('span', class_='woocommerce-Price-amount amount').text)\n",
    "                else:\n",
    "                    prices.append(0)\n",
    "    else:\n",
    "        print(page.status_code)"
   ]
  },
  {
   "cell_type": "markdown",
   "metadata": {},
   "source": [
    "Deleting irrelevant symbols from the price:"
   ]
  },
  {
   "cell_type": "code",
   "execution_count": 7,
   "metadata": {},
   "outputs": [],
   "source": [
    "prices_clean = []\n",
    "pattern = '(\\d+[,])?\\d+'\n",
    "for price in prices:\n",
    "    price = str(price).replace(',','')\n",
    "    string = re.search(pattern, str(price))\n",
    "    prices_clean.append(string[0])"
   ]
  },
  {
   "cell_type": "markdown",
   "metadata": {},
   "source": [
    "Taking relevant information from the product description:"
   ]
  },
  {
   "cell_type": "code",
   "execution_count": 8,
   "metadata": {},
   "outputs": [],
   "source": [
    "origins = []\n",
    "for product in products:\n",
    "    separated = str(product).strip().split(',')\n",
    "    if len(separated) > 1:\n",
    "        string = str(product).strip().split(' ')\n",
    "        if string[-1].istitle():\n",
    "            origins.append(string[-1].strip()) \n",
    "        elif string[-2].istitle():\n",
    "            origins.append(string[-2].strip()) \n",
    "        else:\n",
    "            origins.append('NONE')\n",
    "    else:\n",
    "        origins.append('NONE')"
   ]
  },
  {
   "cell_type": "markdown",
   "metadata": {},
   "source": [
    "Put the data inside dataframe:"
   ]
  },
  {
   "cell_type": "code",
   "execution_count": 9,
   "metadata": {},
   "outputs": [
    {
     "data": {
      "text/html": [
       "<div>\n",
       "<style scoped>\n",
       "    .dataframe tbody tr th:only-of-type {\n",
       "        vertical-align: middle;\n",
       "    }\n",
       "\n",
       "    .dataframe tbody tr th {\n",
       "        vertical-align: top;\n",
       "    }\n",
       "\n",
       "    .dataframe thead th {\n",
       "        text-align: right;\n",
       "    }\n",
       "</style>\n",
       "<table border=\"1\" class=\"dataframe\">\n",
       "  <thead>\n",
       "    <tr style=\"text-align: right;\">\n",
       "      <th></th>\n",
       "      <th>product</th>\n",
       "      <th>price</th>\n",
       "      <th>origin</th>\n",
       "    </tr>\n",
       "  </thead>\n",
       "  <tbody>\n",
       "    <tr>\n",
       "      <th>0</th>\n",
       "      <td>Напиток Actimel кисломолочный Гранат, 100 гр, ...</td>\n",
       "      <td>210</td>\n",
       "      <td>Казахстан</td>\n",
       "    </tr>\n",
       "    <tr>\n",
       "      <th>1</th>\n",
       "      <td>Молоко Родина 3,2% финпак, 1000мл, Казахстан</td>\n",
       "      <td>305</td>\n",
       "      <td>Казахстан</td>\n",
       "    </tr>\n",
       "    <tr>\n",
       "      <th>2</th>\n",
       "      <td>Вода Tassay негазированная 5000 мл, Казахстан</td>\n",
       "      <td>460</td>\n",
       "      <td>Казахстан</td>\n",
       "    </tr>\n",
       "    <tr>\n",
       "      <th>3</th>\n",
       "      <td>Яйцо Казгер-Құс премиум, 15шт, Казахстан</td>\n",
       "      <td>740</td>\n",
       "      <td>Казахстан</td>\n",
       "    </tr>\n",
       "    <tr>\n",
       "      <th>4</th>\n",
       "      <td>Картофель молодой, 1000г, Казахстан</td>\n",
       "      <td>91</td>\n",
       "      <td>Казахстан</td>\n",
       "    </tr>\n",
       "    <tr>\n",
       "      <th>...</th>\n",
       "      <td>...</td>\n",
       "      <td>...</td>\n",
       "      <td>...</td>\n",
       "    </tr>\n",
       "    <tr>\n",
       "      <th>5601</th>\n",
       "      <td>Зубная щетка Colgate “Шелковые нити” с древесн...</td>\n",
       "      <td>1010</td>\n",
       "      <td>Китай</td>\n",
       "    </tr>\n",
       "    <tr>\n",
       "      <th>5602</th>\n",
       "      <td>Ополаскиватели д/полости рта Listerine total 2...</td>\n",
       "      <td>950</td>\n",
       "      <td>NONE</td>\n",
       "    </tr>\n",
       "    <tr>\n",
       "      <th>5603</th>\n",
       "      <td>Корм для кошек Gourmet Perle Индейка влажный 8...</td>\n",
       "      <td>190</td>\n",
       "      <td>Россия</td>\n",
       "    </tr>\n",
       "    <tr>\n",
       "      <th>5604</th>\n",
       "      <td>Корм д/кошек Gourmet perle ягненок влажн 85г</td>\n",
       "      <td>190</td>\n",
       "      <td>NONE</td>\n",
       "    </tr>\n",
       "    <tr>\n",
       "      <th>5605</th>\n",
       "      <td>Корм для кошек Gourmet Perle с говядиной влажн...</td>\n",
       "      <td>190</td>\n",
       "      <td>Россия</td>\n",
       "    </tr>\n",
       "  </tbody>\n",
       "</table>\n",
       "<p>5606 rows × 3 columns</p>\n",
       "</div>"
      ],
      "text/plain": [
       "                                                product price     origin\n",
       "0     Напиток Actimel кисломолочный Гранат, 100 гр, ...   210  Казахстан\n",
       "1          Молоко Родина 3,2% финпак, 1000мл, Казахстан   305  Казахстан\n",
       "2         Вода Tassay негазированная 5000 мл, Казахстан   460  Казахстан\n",
       "3              Яйцо Казгер-Құс премиум, 15шт, Казахстан   740  Казахстан\n",
       "4                   Картофель молодой, 1000г, Казахстан    91  Казахстан\n",
       "...                                                 ...   ...        ...\n",
       "5601  Зубная щетка Colgate “Шелковые нити” с древесн...  1010      Китай\n",
       "5602  Ополаскиватели д/полости рта Listerine total 2...   950       NONE\n",
       "5603  Корм для кошек Gourmet Perle Индейка влажный 8...   190     Россия\n",
       "5604       Корм д/кошек Gourmet perle ягненок влажн 85г   190       NONE\n",
       "5605  Корм для кошек Gourmet Perle с говядиной влажн...   190     Россия\n",
       "\n",
       "[5606 rows x 3 columns]"
      ]
     },
     "execution_count": 9,
     "metadata": {},
     "output_type": "execute_result"
    }
   ],
   "source": [
    "data = pd.DataFrame({'product':products, 'price':prices_clean, 'origin':origins})\n",
    "data"
   ]
  },
  {
   "cell_type": "code",
   "execution_count": 10,
   "metadata": {},
   "outputs": [
    {
     "data": {
      "text/plain": [
       "NONE          1876\n",
       "Россия        1124\n",
       "Казахстан      808\n",
       "Китай          558\n",
       "Германия       267\n",
       "              ... \n",
       "Литва,           1\n",
       "Куба             1\n",
       "Тунис            1\n",
       "Беларуссия       1\n",
       "Мексика          1\n",
       "Name: origin, Length: 95, dtype: int64"
      ]
     },
     "execution_count": 10,
     "metadata": {},
     "output_type": "execute_result"
    }
   ],
   "source": [
    "data.origin.value_counts(dropna = False)"
   ]
  },
  {
   "cell_type": "markdown",
   "metadata": {},
   "source": [
    "Exporting to Excel:"
   ]
  },
  {
   "cell_type": "code",
   "execution_count": 11,
   "metadata": {},
   "outputs": [],
   "source": [
    "data.to_excel('galmart.kz.xlsx')"
   ]
  }
 ],
 "metadata": {
  "kernelspec": {
   "display_name": "Python 3",
   "language": "python",
   "name": "python3"
  },
  "language_info": {
   "codemirror_mode": {
    "name": "ipython",
    "version": 3
   },
   "file_extension": ".py",
   "mimetype": "text/x-python",
   "name": "python",
   "nbconvert_exporter": "python",
   "pygments_lexer": "ipython3",
   "version": "3.7.6"
  }
 },
 "nbformat": 4,
 "nbformat_minor": 4
}
